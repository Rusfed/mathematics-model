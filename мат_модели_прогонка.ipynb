{
 "cells": [
  {
   "cell_type": "code",
   "execution_count": 1,
   "metadata": {},
   "outputs": [],
   "source": [
    "import numpy as np\n",
    "import pandas as pd"
   ]
  },
  {
   "cell_type": "code",
   "execution_count": 2,
   "metadata": {},
   "outputs": [],
   "source": [
    "def fun(h):  # наша функция f(x) по условию\n",
    "    f= np.sin(2*np.pi*h)+ np.sin(3*np.pi*h)\n",
    "    return f"
   ]
  },
  {
   "cell_type": "code",
   "execution_count": 3,
   "metadata": {},
   "outputs": [],
   "source": [
    "N=6"
   ]
  },
  {
   "cell_type": "code",
   "execution_count": 5,
   "metadata": {},
   "outputs": [],
   "source": [
    "# Инициализация векторов и параметров для прогонки\n",
    "y=[0 for i in range(1,N)]\n",
    "gamma=[0 for i in range(1,N)]\n",
    "c=-36\n",
    "a=-36\n",
    "b=218/3"
   ]
  },
  {
   "cell_type": "code",
   "execution_count": 6,
   "metadata": {},
   "outputs": [
    {
     "data": {
      "text/plain": [
       "[1.8660254037844386,\n",
       " 0.8660254037844388,\n",
       " -0.9999999999999999,\n",
       " -0.8660254037844386,\n",
       " 0.1339745962155614]"
      ]
     },
     "execution_count": 6,
     "metadata": {},
     "output_type": "execute_result"
    }
   ],
   "source": [
    "F=[fun(i/N) for i in range(1,N)]\n",
    "F"
   ]
  },
  {
   "cell_type": "code",
   "execution_count": 7,
   "metadata": {},
   "outputs": [],
   "source": [
    "# Инициализация начальных точек\n",
    "gamma[0]=c/b\n",
    "y[0]=F[0]/b"
   ]
  },
  {
   "cell_type": "code",
   "execution_count": 8,
   "metadata": {},
   "outputs": [],
   "source": [
    "# Алгоритм прямого хода\n",
    "for i in range(1,N-1):\n",
    "    gamma[i]=c/(b-a*gamma[i-1])\n",
    "    y[i]=(F[i]-a*y[i-1])/(b-a*gamma[i-1])"
   ]
  },
  {
   "cell_type": "code",
   "execution_count": 9,
   "metadata": {},
   "outputs": [
    {
     "data": {
      "text/plain": [
       "[-0.4954128440366972,\n",
       " -0.656553262688232,\n",
       " -0.7342331206462209,\n",
       " -0.7786431284329175,\n",
       " -0.8065326628758717]"
      ]
     },
     "execution_count": 9,
     "metadata": {},
     "output_type": "execute_result"
    }
   ],
   "source": [
    "gamma"
   ]
  },
  {
   "cell_type": "code",
   "execution_count": 10,
   "metadata": {},
   "outputs": [
    {
     "data": {
      "text/plain": [
       "[0.025679248675932638,\n",
       " 0.03265401129116511,\n",
       " 0.0035802921495340706,\n",
       " -0.015943472611791194,\n",
       " -0.009857406758758246]"
      ]
     },
     "execution_count": 10,
     "metadata": {},
     "output_type": "execute_result"
    }
   ],
   "source": [
    "y"
   ]
  },
  {
   "cell_type": "code",
   "execution_count": 11,
   "metadata": {},
   "outputs": [],
   "source": [
    "# Алгоритм обратного хода\n",
    "u=[0 for i in range(1,N)]\n",
    "u[4]=y[4]\n",
    "for i in range(N-3,-1,-1):\n",
    "    u[i]=y[i]-gamma[i]*u[i+1]"
   ]
  },
  {
   "cell_type": "code",
   "execution_count": 12,
   "metadata": {},
   "outputs": [
    {
     "data": {
      "text/plain": [
       "[0.037380342538574765,\n",
       " 0.02361887464866651,\n",
       " -0.013761467889908247,\n",
       " -0.0236188746486665,\n",
       " -0.009857406758758246]"
      ]
     },
     "execution_count": 12,
     "metadata": {},
     "output_type": "execute_result"
    }
   ],
   "source": [
    "u"
   ]
  },
  {
   "cell_type": "code",
   "execution_count": 13,
   "metadata": {},
   "outputs": [],
   "source": [
    "import matplotlib.pyplot as plt"
   ]
  },
  {
   "cell_type": "code",
   "execution_count": 19,
   "metadata": {},
   "outputs": [
    {
     "data": {
      "text/plain": [
       "<matplotlib.lines.Line2D at 0x53695c0>"
      ]
     },
     "execution_count": 19,
     "metadata": {},
     "output_type": "execute_result"
    },
    {
     "data": {
      "image/png": "[encoded data removed]",
      "text/plain": [
       "<Figure size 432x288 with 1 Axes>"
      ]
     },
     "metadata": {},
     "output_type": "display_data"
    }
   ],
   "source": [
    "x= np.linspace(0,1,5)\n",
    "plt.plot(x,u)\n",
    "plt.axhline(0, color='black')"
   ]
  },
  {
   "cell_type": "code",
   "execution_count": null,
   "metadata": {},
   "outputs": [],
   "source": []
  }
 ],
 "metadata": {
  "kernelspec": {
   "display_name": "Python 3",
   "language": "python",
   "name": "python3"
  },
  "language_info": {
   "codemirror_mode": {
    "name": "ipython",
    "version": 3
   },
   "file_extension": ".py",
   "mimetype": "text/x-python",
   "name": "python",
   "nbconvert_exporter": "python",
   "pygments_lexer": "ipython3",
   "version": "3.6.5"
  }
 },
 "nbformat": 4,
 "nbformat_minor": 2
}
